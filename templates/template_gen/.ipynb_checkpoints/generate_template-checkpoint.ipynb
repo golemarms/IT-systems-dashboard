{
 "cells": [
  {
   "cell_type": "code",
   "execution_count": 113,
   "metadata": {},
   "outputs": [],
   "source": [
    "import pandas as pd\n",
    "import numpy as np"
   ]
  },
  {
   "cell_type": "code",
   "execution_count": 114,
   "metadata": {},
   "outputs": [],
   "source": [
    "pd.set_option('display.max_rows', 500)"
   ]
  },
  {
   "cell_type": "code",
   "execution_count": 115,
   "metadata": {},
   "outputs": [],
   "source": [
    "def first_letter(series):\n",
    "    return series.str.get(0).str.upper()"
   ]
  },
  {
   "cell_type": "code",
   "execution_count": 116,
   "metadata": {},
   "outputs": [],
   "source": [
    "def make_first_letter_index(df, col):\n",
    "    return df.assign(first_letter = lambda x: first_letter(x[col])).set_index(\"first_letter\")"
   ]
  },
  {
   "cell_type": "code",
   "execution_count": 117,
   "metadata": {},
   "outputs": [],
   "source": [
    "countries_df = pd.read_csv(\"countries_chosen.csv\").pipe(make_first_letter_index, 'country')"
   ]
  },
  {
   "cell_type": "code",
   "execution_count": 118,
   "metadata": {},
   "outputs": [],
   "source": [
    "nato_string = \"Alpha, Bravo, Charlie, Delta, Echo, Foxtrot, Golf, Hotel, India, Juliett, Kilo, Lima, Mike, November, Oscar, Papa, Quebec, Romeo, Sierra, Tango, Uniform, Victor, Whiskey, X-ray, Yankee, Zulu\""
   ]
  },
  {
   "cell_type": "code",
   "execution_count": 119,
   "metadata": {},
   "outputs": [],
   "source": [
    "nato_alphabet = [letter.strip() for letter in nato_string.split(',')]"
   ]
  },
  {
   "cell_type": "code",
   "execution_count": 120,
   "metadata": {},
   "outputs": [],
   "source": [
    "alpha_df = pd.DataFrame({\"alphabet\": nato_alphabet}).pipe(make_first_letter_index, \"alphabet\")"
   ]
  },
  {
   "cell_type": "code",
   "execution_count": 121,
   "metadata": {},
   "outputs": [],
   "source": [
    "baby_names_raw = pd.read_csv(\"yob2018.txt\", header=None, names=[\"Name\", \"Gender\", \"Count\"])"
   ]
  },
  {
   "cell_type": "code",
   "execution_count": 122,
   "metadata": {},
   "outputs": [],
   "source": [
    "names_df = baby_names_raw.drop_duplicates([\"Name\"]).\\\n",
    "               assign(first_letter = lambda x: first_letter(x.Name)).\\\n",
    "               sort_values([\"Gender\", \"first_letter\", \"Count\"], ascending=[True, True, False]).\\\n",
    "               groupby([\"Gender\", \"first_letter\"]).\\\n",
    "               first()"
   ]
  },
  {
   "cell_type": "code",
   "execution_count": 123,
   "metadata": {},
   "outputs": [],
   "source": [
    "male_names_df = names_df.loc[\"M\"]\n",
    "female_names_df = names_df.loc[\"F\"]"
   ]
  },
  {
   "cell_type": "code",
   "execution_count": 124,
   "metadata": {
    "scrolled": true
   },
   "outputs": [],
   "source": [
    "def join_rename(df, new_df, rename_dict):\n",
    "    return df.join(new_df[rename_dict.keys()].rename(columns=rename_dict))"
   ]
  },
  {
   "cell_type": "code",
   "execution_count": 125,
   "metadata": {},
   "outputs": [],
   "source": [
    "hosting_types = [\"On-prem\", \"GDC\", \"GPC\", \"GCC\", \"CC\"]\n",
    "class_types = [\"Unclassified (Official Open)\", \"Unclassified (Official Closed)\", \"Restricted\", \"Confidential\"]\n",
    "status_types = [\"In progress\", \"POC\", \"deployed\"]"
   ]
  },
  {
   "cell_type": "code",
   "execution_count": 126,
   "metadata": {},
   "outputs": [],
   "source": [
    "def create_cycle(iterable, length):\n",
    "    return [iterable[i%len(iterable)] for i in range(length)]"
   ]
  },
  {
   "cell_type": "code",
   "execution_count": 127,
   "metadata": {},
   "outputs": [],
   "source": [
    "def create_cycle_col(df, iterable, name):\n",
    "    kwargs = {name: create_cycle(iterable, len(df))}\n",
    "    return df.assign(**kwargs)"
   ]
  },
  {
   "cell_type": "code",
   "execution_count": 128,
   "metadata": {
    "scrolled": false
   },
   "outputs": [],
   "source": [
    "system_df = countries_df.rename(columns={\"country\": \"FULL_NAME\",\n",
    "                                         \"code\": \"SHORT_NAME\"}).\\\n",
    "             pipe(join_rename, female_names_df, {\"Name\": \"DEPT_OWNER\"}).\\\n",
    "             pipe(join_rename, male_names_df, {\"Name\": \"IDTD_REP\"}).\\\n",
    "             reset_index().\\\n",
    "             rename(columns={\"first_letter\": \"ID\"}).\\\n",
    "             pipe(create_cycle_col, nato_alphabet[:5], \"DEPT\").\\\n",
    "             pipe(create_cycle_col, hosting_types, \"HOSTING_MODEL\").\\\n",
    "             pipe(create_cycle_col, class_types, \"CLASSIFICATION\").\\\n",
    "             pipe(create_cycle_col, status_types, \"STATUS\")\n",
    " "
   ]
  },
  {
   "cell_type": "code",
   "execution_count": 129,
   "metadata": {},
   "outputs": [],
   "source": [
    "letters = [alphabet[0] for alphabet in nato_alphabet]"
   ]
  },
  {
   "cell_type": "code",
   "execution_count": 130,
   "metadata": {},
   "outputs": [],
   "source": [
    "protocol_types = [\"REST API\", \"SFTP\", \"DB Query\"]"
   ]
  },
  {
   "cell_type": "code",
   "execution_count": 131,
   "metadata": {},
   "outputs": [],
   "source": [
    "def make_edges(letters, size, protocol_types):\n",
    "    edge_list = []\n",
    "    for i in range(size):\n",
    "        _from = np.random.choice(letters)\n",
    "        _to = np.random.choice([letter for letter in letters if letter!=_from])\n",
    "        edge_list.append((_from, _to))\n",
    "    return edge_list"
   ]
  },
  {
   "cell_type": "code",
   "execution_count": 132,
   "metadata": {},
   "outputs": [],
   "source": [
    "system_df.to_csv(\"../systems_gen.csv\", index=False)"
   ]
  },
  {
   "cell_type": "code",
   "execution_count": 139,
   "metadata": {},
   "outputs": [],
   "source": [
    "np.random.seed(1)\n",
    "\n",
    "edge_df = pd.DataFrame(make_edges(letters, 50, protocol_types), columns=[\"FROM\", \"TO\"]).\\\n",
    "             pipe(create_cycle_col, protocol_types, \"PROTOCOL\")\n",
    "\n",
    "edge_df.to_csv(\"../links_gen.csv\", index=False)"
   ]
  }
 ],
 "metadata": {
  "kernelspec": {
   "display_name": "Python 3",
   "language": "python",
   "name": "python3"
  },
  "language_info": {
   "codemirror_mode": {
    "name": "ipython",
    "version": 3
   },
   "file_extension": ".py",
   "mimetype": "text/x-python",
   "name": "python",
   "nbconvert_exporter": "python",
   "pygments_lexer": "ipython3",
   "version": "3.7.4"
  }
 },
 "nbformat": 4,
 "nbformat_minor": 2
}
